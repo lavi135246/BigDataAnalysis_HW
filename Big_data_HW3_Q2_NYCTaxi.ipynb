{
 "metadata": {
  "name": "HW3_CleanTaxi"
 },
 "nbformat": 3,
 "nbformat_minor": 0,
 "worksheets": [
  {
   "cells": [
    {
     "cell_type": "code",
     "collapsed": false,
     "input": "import time\nimport numpy as np\nfrom pyspark.sql import SQLContext",
     "language": "python",
     "metadata": {},
     "outputs": [],
     "prompt_number": 1
    },
    {
     "cell_type": "code",
     "collapsed": false,
     "input": "def f_path(num):\n    path = \"hdfs://nn/user/s31tsm61/yellow_tripdata_2015-\"\n    if (num < 10):\n        path += (str(0) + str(num) + \".csv\")\n        print path\n    else:\n        path += (str(num) + \".csv\")\n        print path\n    return path",
     "language": "python",
     "metadata": {},
     "outputs": [],
     "prompt_number": 2
    },
    {
     "cell_type": "code",
     "collapsed": false,
     "input": "def PrepareData(sc, num):\n    print(\"Loading Data\")\n    path = f_path(num)\n    rawDataWithHeader = sc.textFile(path)\n    header = rawDataWithHeader.first()\n    rawData = rawDataWithHeader.filter(lambda x: x!=header)\n    lines = rawData.map(lambda x: x.split(\",\"))\n    #print(lines.first())\n    #print(header)\n    print(\"Total: \" + str(lines.count()) + \" lines of data\")\n    return lines, header",
     "language": "python",
     "metadata": {},
     "outputs": [],
     "prompt_number": 3
    },
    {
     "cell_type": "code",
     "collapsed": false,
     "input": "my_sum = np.zeros(6)\nmy_cnt = np.zeros(6)\nlinesofdata = np.zeros(12)",
     "language": "python",
     "metadata": {},
     "outputs": [],
     "prompt_number": 4
    },
    {
     "cell_type": "code",
     "collapsed": false,
     "input": "frameRDD, header = PrepareData(sc, 1)\ndroppedRDD = frameRDD.filter(lambda x: x[3]!='0')",
     "language": "python",
     "metadata": {},
     "outputs": [
      {
       "output_type": "stream",
       "stream": "stdout",
       "text": "Loading Data\nhdfs://nn/user/s31tsm61/yellow_tripdata_2015-01.csv\nTotal: 12748986 lines of data"
      },
      {
       "output_type": "stream",
       "stream": "stdout",
       "text": "\n"
      }
     ],
     "prompt_number": 5
    },
    {
     "cell_type": "code",
     "collapsed": false,
     "input": "for i in range(1,13):\n    frameRDD, _ = PrepareData(sc, i)\n    linesofdata[(i-1)] = frameRDD.count()\n    droppedRDD = frameRDD#.filter(lambda x: x[3]!='0')\n    sumRDD = droppedRDD.map(lambda x: (x[11], float(x[3]))) \\\n        .reduceByKey(lambda accum, n: accum+n) \\\n        .sortByKey() \\\n        .collect()\n    cntRDD = droppedRDD.map(lambda x: (x[11], 1)) \\\n        .reduceByKey(lambda accum, n: accum+n) \\\n        .sortByKey() \\\n        .collect()\n    \n    for i in range(0,5):\n        try:\n            print str(sumRDD[i][0])+ \" \" + str(float(sumRDD[i][1])/float(cntRDD[i][1]))\n            my_sum[i] += sumRDD[i][1]\n            my_cnt[i] += cntRDD[i][1]\n        except IndexError:\n            print(\"Exception\")\n            pass",
     "language": "python",
     "metadata": {},
     "outputs": [
      {
       "output_type": "stream",
       "stream": "stdout",
       "text": "Loading Data\nhdfs://nn/user/s31tsm61/yellow_tripdata_2015-01.csv\nTotal: 12748986 lines of data"
      },
      {
       "output_type": "stream",
       "stream": "stdout",
       "text": "\n1 1.66473329317"
      },
      {
       "output_type": "stream",
       "stream": "stdout",
       "text": "\n2 1.71324843388\n3 1.23943880721\n4 1.36184430337\n5 2.0\nLoading Data\nhdfs://nn/user/s31tsm61/yellow_tripdata_2015-02.csv\nTotal: 12450521 lines of data"
      },
      {
       "output_type": "stream",
       "stream": "stdout",
       "text": "\n1 1.65613267485"
      },
      {
       "output_type": "stream",
       "stream": "stdout",
       "text": "\n2 1.69929687155\n3 1.22476539254\n4 1.32748491585\n5 1.0\nLoading Data\nhdfs://nn/user/s31tsm61/yellow_tripdata_2015-03.csv\nTotal: 13351609 lines of data"
      },
      {
       "output_type": "stream",
       "stream": "stdout",
       "text": "\n1 1.65491646501"
      },
      {
       "output_type": "stream",
       "stream": "stdout",
       "text": "\n2 1.70315717906\n3 1.23433299342\n4 1.33169094544\n5 0.5\nLoading Data\nhdfs://nn/user/s31tsm61/yellow_tripdata_2015-04.csv\nTotal: 13071789 lines of data"
      },
      {
       "output_type": "stream",
       "stream": "stdout",
       "text": "\n1 1.65508536585"
      },
      {
       "output_type": "stream",
       "stream": "stdout",
       "text": "\n2 1.71746862455\n3 1.25563892255\n4 1.33395522388\n5 0.75\nLoading Data\nhdfs://nn/user/s31tsm61/yellow_tripdata_2015-05.csv\nTotal: 13158262 lines of data"
      },
      {
       "output_type": "stream",
       "stream": "stdout",
       "text": "\n1 1.66632482463"
      },
      {
       "output_type": "stream",
       "stream": "stdout",
       "text": "\n2 1.72406955606\n3 1.27212428383\n4 1.33825299297\n5 1.33333333333\nLoading Data\nhdfs://nn/user/s31tsm61/yellow_tripdata_2015-06.csv\nTotal: 12324935 lines of data"
      },
      {
       "output_type": "stream",
       "stream": "stdout",
       "text": "\n1 1.66116422474"
      },
      {
       "output_type": "stream",
       "stream": "stdout",
       "text": "\n2 1.72206982448\n3 1.26933646506\n4 1.33406128438\n5 1.5\nLoading Data\nhdfs://nn/user/s31tsm61/yellow_tripdata_2015-07.csv\nTotal: 11562783 lines of data"
      },
      {
       "output_type": "stream",
       "stream": "stdout",
       "text": "\n1 1.66813013292"
      },
      {
       "output_type": "stream",
       "stream": "stdout",
       "text": "\n2 1.74611474046\n3 1.28354766739\n4 1.34251505803\nException\nLoading Data\nhdfs://nn/user/s31tsm61/yellow_tripdata_2015-08.csv\nTotal: 11130304 lines of data"
      },
      {
       "output_type": "stream",
       "stream": "stdout",
       "text": "\n1 1.66920440954"
      },
      {
       "output_type": "stream",
       "stream": "stdout",
       "text": "\n2 1.74925328593\n3 1.29687222095\n4 1.35212549898\n5 0.0\nLoading Data\nhdfs://nn/user/s31tsm61/yellow_tripdata_2015-09.csv\nTotal: 11225063 lines of data"
      },
      {
       "output_type": "stream",
       "stream": "stdout",
       "text": "\n1 1.66138690706"
      },
      {
       "output_type": "stream",
       "stream": "stdout",
       "text": "\n2 1.72000738111\n3 1.26275059853\n4 1.3178661821\n5 0.0\nLoading Data\nhdfs://nn/user/s31tsm61/yellow_tripdata_2015-10.csv\nTotal: 12315488 lines of data"
      },
      {
       "output_type": "stream",
       "stream": "stdout",
       "text": "\n1 1.65422307757"
      },
      {
       "output_type": "stream",
       "stream": "stdout",
       "text": "\n2 1.71411451757\n3 1.26361446858\n4 1.32966304059\n5 1.0\nLoading Data\nhdfs://nn/user/s31tsm61/yellow_tripdata_2015-11.csv\nTotal: 11312676 lines of data"
      },
      {
       "output_type": "stream",
       "stream": "stdout",
       "text": "\n1 1.65441025742"
      },
      {
       "output_type": "stream",
       "stream": "stdout",
       "text": "\n2 1.70956813945\n3 1.25787730032\n4 1.32581545695\n5 0.75\nLoading Data\nhdfs://nn/user/s31tsm61/yellow_tripdata_2015-12.csv\nTotal: 11460573 lines of data"
      },
      {
       "output_type": "stream",
       "stream": "stdout",
       "text": "\n1 1.66045121313"
      },
      {
       "output_type": "stream",
       "stream": "stdout",
       "text": "\n2 1.72673261846\n3 1.28446641387\n4 1.34446280992\n5 1.33333333333\n"
      }
     ],
     "prompt_number": 6
    },
    {
     "cell_type": "code",
     "collapsed": false,
     "input": "my_sum",
     "language": "python",
     "metadata": {},
     "outputs": [
      {
       "metadata": {},
       "output_type": "pyout",
       "prompt_number": 7,
       "text": "array([  1.52045932e+08,   9.26578100e+07,   6.35004000e+05,\n         2.27973000e+05,   2.80000000e+01,   0.00000000e+00])"
      }
     ],
     "prompt_number": 7
    },
    {
     "cell_type": "code",
     "collapsed": false,
     "input": "my_cnt",
     "language": "python",
     "metadata": {},
     "outputs": [
      {
       "metadata": {},
       "output_type": "pyout",
       "prompt_number": 8,
       "text": "array([  9.15746440e+07,   5.38646480e+07,   5.03070000e+05,\n         1.70599000e+05,   2.80000000e+01,   0.00000000e+00])"
      }
     ],
     "prompt_number": 8
    },
    {
     "cell_type": "code",
     "collapsed": false,
     "input": "my_sum/my_cnt",
     "language": "python",
     "metadata": {},
     "outputs": [
      {
       "metadata": {},
       "output_type": "pyout",
       "prompt_number": 9,
       "text": "array([ 1.66034969,  1.72019708,  1.26225774,  1.33630912,  1.        ,\n               nan])"
      }
     ],
     "prompt_number": 9
    },
    {
     "cell_type": "code",
     "collapsed": false,
     "input": "87050203+46313800",
     "language": "python",
     "metadata": {},
     "outputs": [
      {
       "metadata": {},
       "output_type": "pyout",
       "prompt_number": 10,
       "text": "133364003"
      }
     ],
     "prompt_number": 10
    },
    {
     "cell_type": "code",
     "collapsed": false,
     "input": "my_cnt.sum()",
     "language": "python",
     "metadata": {},
     "outputs": [
      {
       "metadata": {},
       "output_type": "pyout",
       "prompt_number": 11,
       "text": "146112989.0"
      }
     ],
     "prompt_number": 11
    },
    {
     "cell_type": "code",
     "collapsed": false,
     "input": "linesofdata.sum()",
     "language": "python",
     "metadata": {},
     "outputs": [
      {
       "metadata": {},
       "output_type": "pyout",
       "prompt_number": 12,
       "text": "146112989.0"
      }
     ],
     "prompt_number": 12
    },
    {
     "cell_type": "code",
     "collapsed": false,
     "input": "my_sum = np.zeros(6)\nmy_cnt = np.zeros(6)\nlinesofdata = np.zeros(12)",
     "language": "python",
     "metadata": {},
     "outputs": [],
     "prompt_number": 13
    },
    {
     "cell_type": "code",
     "collapsed": false,
     "input": "for i in range(1,13):\n    frameRDD, _ = PrepareData(sc, i)\n    linesofdata[(i-1)] = frameRDD.count()\n    droppedRDD = frameRDD.filter(lambda x: x[3]!='0')\n    sumRDD = droppedRDD.map(lambda x: (x[11], float(x[3]))) \\\n        .reduceByKey(lambda accum, n: accum+n) \\\n        .sortByKey() \\\n        .collect()\n    cntRDD = droppedRDD.map(lambda x: (x[11], 1)) \\\n        .reduceByKey(lambda accum, n: accum+n) \\\n        .sortByKey() \\\n        .collect()\n    \n    for i in range(0,5):\n        try:\n            print str(sumRDD[i][0])+ \" \" + str(float(sumRDD[i][1])/float(cntRDD[i][1]))\n            my_sum[i] += sumRDD[i][1]\n            my_cnt[i] += cntRDD[i][1]\n        except IndexError:\n            print(\"Exception\")\n            pass",
     "language": "python",
     "metadata": {},
     "outputs": [
      {
       "output_type": "stream",
       "stream": "stdout",
       "text": "Loading Data\nhdfs://nn/user/s31tsm61/yellow_tripdata_2015-01.csv\nTotal: 12748986 lines of data"
      },
      {
       "output_type": "stream",
       "stream": "stdout",
       "text": "\n1 1.66559299356"
      },
      {
       "output_type": "stream",
       "stream": "stdout",
       "text": "\n2 1.71409427337\n3 1.24249422633\n4 1.36469406546\n5 2.0\nLoading Data\nhdfs://nn/user/s31tsm61/yellow_tripdata_2015-02.csv\nTotal: 12450521 lines of data"
      },
      {
       "output_type": "stream",
       "stream": "stdout",
       "text": "\n1 1.6572007046"
      },
      {
       "output_type": "stream",
       "stream": "stdout",
       "text": "\n2 1.70038555717\n3 1.22816994798\n4 1.33044239338\n5 1.0\nLoading Data\nhdfs://nn/user/s31tsm61/yellow_tripdata_2015-03.csv\nTotal: 13351609 lines of data"
      },
      {
       "output_type": "stream",
       "stream": "stdout",
       "text": "\n1 1.65611392192"
      },
      {
       "output_type": "stream",
       "stream": "stdout",
       "text": "\n2 1.70436194323\n3 1.23780416947\n4 1.33474091039\n5 1.0\nLoading Data\nhdfs://nn/user/s31tsm61/yellow_tripdata_2015-04.csv\nTotal: 13071789 lines of data"
      },
      {
       "output_type": "stream",
       "stream": "stdout",
       "text": "\n1 1.6559890694"
      },
      {
       "output_type": "stream",
       "stream": "stdout",
       "text": "\n2 1.71839885534\n3 1.25813079312\n4 1.33524692212\n5 1.0\nLoading Data\nhdfs://nn/user/s31tsm61/yellow_tripdata_2015-05.csv\nTotal: 13158262 lines of data"
      },
      {
       "output_type": "stream",
       "stream": "stdout",
       "text": "\n1 1.66674923652"
      },
      {
       "output_type": "stream",
       "stream": "stdout",
       "text": "\n2 1.7244741194\n3 1.27423021742\n4 1.33995052959\n5 1.33333333333\nLoading Data\nhdfs://nn/user/s31tsm61/yellow_tripdata_2015-06.csv\nTotal: 12324935 lines of data"
      },
      {
       "output_type": "stream",
       "stream": "stdout",
       "text": "\n1 1.66137449806"
      },
      {
       "output_type": "stream",
       "stream": "stdout",
       "text": "\n2 1.72227316184\n3 1.2700524077\n4 1.33551957368\n5 1.5\nLoading Data\nhdfs://nn/user/s31tsm61/yellow_tripdata_2015-07.csv\nTotal: 11562783 lines of data"
      },
      {
       "output_type": "stream",
       "stream": "stdout",
       "text": "\n1 1.66844157685"
      },
      {
       "output_type": "stream",
       "stream": "stdout",
       "text": "\n2 1.7462286708\n3 1.2846103668\n4 1.34389705882\nException\nLoading Data\nhdfs://nn/user/s31tsm61/yellow_tripdata_2015-08.csv\nTotal: 11130304 lines of data"
      },
      {
       "output_type": "stream",
       "stream": "stdout",
       "text": "\n1 1.66926191948"
      },
      {
       "output_type": "stream",
       "stream": "stdout",
       "text": "\n2 1.74933714273\n3 1.29786152008\n4 1.3529782761\nException\nLoading Data\nhdfs://nn/user/s31tsm61/yellow_tripdata_2015-09.csv\nTotal: 11225063 lines of data"
      },
      {
       "output_type": "stream",
       "stream": "stdout",
       "text": "\n1 1.66147766133"
      },
      {
       "output_type": "stream",
       "stream": "stdout",
       "text": "\n2 1.72009552628\n3 1.26418748789\n4 1.3182083739\nException\nLoading Data\nhdfs://nn/user/s31tsm61/yellow_tripdata_2015-10.csv\nTotal: 12315488 lines of data"
      },
      {
       "output_type": "stream",
       "stream": "stdout",
       "text": "\n1 1.65429525338"
      },
      {
       "output_type": "stream",
       "stream": "stdout",
       "text": "\n2 1.71419602015\n3 1.26491204572\n4 1.3301924353\n5 1.0\nLoading Data\nhdfs://nn/user/s31tsm61/yellow_tripdata_2015-11.csv\nTotal: 11312676 lines of data"
      },
      {
       "output_type": "stream",
       "stream": "stdout",
       "text": "\n1 1.65447776771"
      },
      {
       "output_type": "stream",
       "stream": "stdout",
       "text": "\n2 1.70964198955\n3 1.25854685345\n4 1.32688772884\n5 1.5\nLoading Data\nhdfs://nn/user/s31tsm61/yellow_tripdata_2015-12.csv\nTotal: 11460573 lines of data"
      },
      {
       "output_type": "stream",
       "stream": "stdout",
       "text": "\n1 1.66052574244"
      },
      {
       "output_type": "stream",
       "stream": "stdout",
       "text": "\n2 1.72680370175\n3 1.28513357874\n4 1.34499636219\n5 1.33333333333\n"
      }
     ],
     "prompt_number": 14
    },
    {
     "cell_type": "code",
     "collapsed": false,
     "input": "my_sum",
     "language": "python",
     "metadata": {},
     "outputs": [
      {
       "metadata": {},
       "output_type": "pyout",
       "prompt_number": 15,
       "text": "array([  1.52045932e+08,   9.26578100e+07,   6.35004000e+05,\n         2.27973000e+05,   2.80000000e+01,   0.00000000e+00])"
      }
     ],
     "prompt_number": 15
    },
    {
     "cell_type": "code",
     "collapsed": false,
     "input": "my_cnt",
     "language": "python",
     "metadata": {},
     "outputs": [
      {
       "metadata": {},
       "output_type": "pyout",
       "prompt_number": 16,
       "text": "array([  9.15489020e+07,   5.38504380e+07,   5.02360000e+05,\n         1.70414000e+05,   2.20000000e+01,   0.00000000e+00])"
      }
     ],
     "prompt_number": 16
    },
    {
     "cell_type": "code",
     "collapsed": false,
     "input": "my_sum/my_cnt",
     "language": "python",
     "metadata": {},
     "outputs": [
      {
       "metadata": {},
       "output_type": "pyout",
       "prompt_number": 17,
       "text": "array([ 1.66081655,  1.720651  ,  1.26404172,  1.33775981,  1.27272727,\n               nan])"
      }
     ],
     "prompt_number": 17
    },
    {
     "cell_type": "code",
     "collapsed": false,
     "input": "my_cnt.sum()",
     "language": "python",
     "metadata": {},
     "outputs": [
      {
       "metadata": {},
       "output_type": "pyout",
       "prompt_number": 18,
       "text": "146072136.0"
      }
     ],
     "prompt_number": 18
    },
    {
     "cell_type": "code",
     "collapsed": false,
     "input": "linesofdata.sum()",
     "language": "python",
     "metadata": {},
     "outputs": [
      {
       "metadata": {},
       "output_type": "pyout",
       "prompt_number": 19,
       "text": "146112989.0"
      }
     ],
     "prompt_number": 19
    },
    {
     "cell_type": "code",
     "collapsed": false,
     "input": "a = my_sum/my_cnt",
     "language": "python",
     "metadata": {},
     "outputs": [],
     "prompt_number": 20
    },
    {
     "cell_type": "code",
     "collapsed": false,
     "input": "a.tolist()",
     "language": "python",
     "metadata": {},
     "outputs": [
      {
       "metadata": {},
       "output_type": "pyout",
       "prompt_number": 21,
       "text": "[1.6608165546321898,\n 1.720651000090287,\n 1.2640417230671233,\n 1.3377598084664406,\n 1.2727272727272727,\n nan]"
      }
     ],
     "prompt_number": 21
    },
    {
     "cell_type": "code",
     "collapsed": false,
     "input": "",
     "language": "python",
     "metadata": {},
     "outputs": []
    }
   ],
   "metadata": {}
  }
 ]
}