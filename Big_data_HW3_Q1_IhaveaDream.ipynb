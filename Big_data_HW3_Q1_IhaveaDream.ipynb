{
 "metadata": {
  "name": "WordCount"
 },
 "nbformat": 3,
 "nbformat_minor": 0,
 "worksheets": [
  {
   "cells": [
    {
     "cell_type": "code",
     "collapsed": false,
     "input": "sc.master",
     "language": "python",
     "metadata": {},
     "outputs": [
      {
       "metadata": {},
       "output_type": "pyout",
       "prompt_number": 1,
       "text": "u'local[*]'"
      }
     ],
     "prompt_number": 1
    },
    {
     "cell_type": "code",
     "collapsed": false,
     "input": "import time",
     "language": "python",
     "metadata": {},
     "outputs": [],
     "prompt_number": 2
    },
    {
     "cell_type": "code",
     "collapsed": false,
     "input": "text_file = sc.textFile(\"hdfs://nn/user/s31tsm61/IhaveaDream.txt\")",
     "language": "python",
     "metadata": {},
     "outputs": [],
     "prompt_number": 3
    },
    {
     "cell_type": "code",
     "collapsed": false,
     "input": "s_time = time.time()\ncounts = text_file.map( lambda x: x.replace(',',' ').replace('.',' ').replace('-',' ').replace('\\'',' ').replace('\\\"',' ').lower()) \\\n        .flatMap(lambda x: x.split()) \\\n        .map(lambda x: (x, 1)) \\\n        .reduceByKey(lambda x,y:x+y) \\\n        .map(lambda x:(x[1],x[0])) \\\n        .sortByKey(False)\n\nprint counts.take(20)\ne_time = time.time() - s_time",
     "language": "python",
     "metadata": {},
     "outputs": [
      {
       "output_type": "stream",
       "stream": "stdout",
       "text": "[(103, u'the'), (99, u'of'), (59, u'to'), (44, u'and'), (36, u'a'), (33, u'we'), (32, u'be'), (27, u'will'), (24, u'that'), (23, u'is'), (23, u'in'), (20, u'as'), (20, u'freedom'), (19, u'this'), (19, u'have'), (18, u'from'), (17, u'our'), (16, u'with'), (15, u'negro'), (15, u'i')]\n"
      }
     ],
     "prompt_number": 4
    },
    {
     "cell_type": "code",
     "collapsed": false,
     "input": "s_time1 = time.time()\nimp_count = counts.filter(lambda x: len(x[1])>4 )\nprint imp_count.take(10)\ne_time1 = time.time() - s_time1",
     "language": "python",
     "metadata": {},
     "outputs": [
      {
       "output_type": "stream",
       "stream": "stdout",
       "text": "[(20, u'freedom'), (15, u'negro'), (11, u'dream'), (11, u'nation'), (10, u'every'), (9, u'today'), (8, u'justice'), (7, u'together'), (7, u'satisfied'), (7, u'their')]\n"
      }
     ],
     "prompt_number": 5
    },
    {
     "cell_type": "code",
     "collapsed": false,
     "input": "print \"Elapsed Time:\" ,e_time+e_time1",
     "language": "python",
     "metadata": {},
     "outputs": [
      {
       "output_type": "stream",
       "stream": "stdout",
       "text": "Elapsed Time: 1.00711393356\n"
      }
     ],
     "prompt_number": 6
    },
    {
     "cell_type": "code",
     "collapsed": false,
     "input": "",
     "language": "python",
     "metadata": {},
     "outputs": []
    }
   ],
   "metadata": {}
  }
 ]
}