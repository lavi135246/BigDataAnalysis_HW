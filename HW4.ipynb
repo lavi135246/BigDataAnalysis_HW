{
 "metadata": {
  "name": ""
 },
 "nbformat": 3,
 "nbformat_minor": 0,
 "worksheets": [
  {
   "cells": [
    {
     "cell_type": "code",
     "collapsed": false,
     "input": [
      "#sc.master"
     ],
     "language": "python",
     "metadata": {},
     "outputs": [
      {
       "metadata": {},
       "output_type": "pyout",
       "prompt_number": 1,
       "text": [
        "u'yarn-client'"
       ]
      }
     ],
     "prompt_number": 1
    },
    {
     "cell_type": "code",
     "collapsed": false,
     "input": [
      "from pyspark import SparkContext\n",
      "from pyspark.mllib.regression import LabeledPoint, LinearRegressionWithSGD, LinearRegressionModel\n",
      "import math"
     ],
     "language": "python",
     "metadata": {},
     "outputs": [
      {
       "output_type": "stream",
       "stream": "stderr",
       "text": [
        "/usr/lib64/python2.6/site-packages/numpy/_import_tools.py:169: DeprecationWarning: pkgload and PackageLoader are obsolete and will be removed in a future version of numpy\n",
        "  DeprecationWarning)\n"
       ]
      }
     ],
     "prompt_number": 2
    },
    {
     "cell_type": "code",
     "collapsed": false,
     "input": [
      "#check if there is any NAs in the selected feature\n",
      "#also delete cancelled flight which is in line[21]\n",
      "def IsNotNAorCancelled(line, selcol):\n",
      "\tfor col in selcol:\n",
      "\t\tif line[col] == 'NA':\n",
      "\t\t\treturn False\n",
      "\tif line[21] !=\"0\":\n",
      "\t\treturn False\n",
      "\treturn True"
     ],
     "language": "python",
     "metadata": {},
     "outputs": [],
     "prompt_number": 3
    },
    {
     "cell_type": "code",
     "collapsed": false,
     "input": [
      "#load data and remove header\n",
      "def prep_Data(path, selcol):\n",
      "    data_wh = sc.textFile(path)#with header\n",
      "    header = data_wh.first()\n",
      "    data = data_wh.filter(lambda line: line!= header)\\\n",
      "                .map(lambda line: line.split(\",\"))\\\n",
      "                .filter(lambda line: IsNotNAorCancelled(line, selcol))\n",
      "    print data.first()\n",
      "    print \"With \" + str(data.count()) + \" lines of data.\"\n",
      "    return data"
     ],
     "language": "python",
     "metadata": {},
     "outputs": [],
     "prompt_number": 4
    },
    {
     "cell_type": "code",
     "collapsed": false,
     "input": [
      "#extract feature and labels\n",
      "def extract_features(line):\n",
      "    feature = [int(line[1]), int(line[3]), int(line[4]), int(line[6]), int(line[18]), str(line[23])]\n",
      "    return (feature)\n",
      "    \n",
      "def extract_label(line):\n",
      "    label = (line[25])\n",
      "    return float(label)"
     ],
     "language": "python",
     "metadata": {},
     "outputs": [],
     "prompt_number": 5
    },
    {
     "cell_type": "code",
     "collapsed": false,
     "input": [
      "#calculate mae and rmse\n",
      "def evaluateModel(model, validationData):\n",
      "    score = model.predict(validationData.map(lambda p: p.features))\n",
      "    scoreAndLabels=score.zip(validationData.map(lambda p: p.label))\n",
      "    mae = scoreAndLabels.map(lambda (a, b): math.fabs(a-b)).mean()\n",
      "    mse = scoreAndLabels.map(lambda (a, b): (a-b)**2).mean()\n",
      "    rmse = math.sqrt(mse)\n",
      "    #metrics = RegressionMetrics(scoreAndLabels)\n",
      "    #RMSE=metrics.rootMeanSquaredError\n",
      "    return mae, rmse"
     ],
     "language": "python",
     "metadata": {},
     "outputs": [],
     "prompt_number": 6
    },
    {
     "cell_type": "code",
     "collapsed": false,
     "input": [
      "selcol = [1,3,4,6,18,23,25]\n",
      "train = prep_Data(\"HW4/200[3-7].csv\", selcol)\n",
      "test = prep_Data(\"HW4/2008.csv\", selcol)"
     ],
     "language": "python",
     "metadata": {},
     "outputs": [
      {
       "output_type": "stream",
       "stream": "stdout",
       "text": [
        "[u'2003', u'6', u'29', u'7', u'1756', u'1725', u'1904', u'1838', u'UA', u'781', u'N228UA', u'128', u'133', u'103', u'26', u'31', u'DEN', u'LAX', u'862', u'8', u'17', u'0', u'', u'0', u'0', u'26', u'0', u'0', u'0']\n",
        "With 32015480 lines of data."
       ]
      },
      {
       "output_type": "stream",
       "stream": "stdout",
       "text": [
        "\n",
        "[u'2008', u'1', u'3', u'4', u'1829', u'1755', u'1959', u'1925', u'WN', u'3920', u'N464WN', u'90', u'90', u'77', u'34', u'34', u'IND', u'BWI', u'515', u'3', u'10', u'0', u'', u'0', u'2', u'0', u'0', u'0', u'32']"
       ]
      },
      {
       "output_type": "stream",
       "stream": "stdout",
       "text": [
        "\n",
        "With 1524735 lines of data."
       ]
      },
      {
       "output_type": "stream",
       "stream": "stdout",
       "text": [
        "\n"
       ]
      }
     ],
     "prompt_number": 7
    },
    {
     "cell_type": "code",
     "collapsed": false,
     "input": [
      "#transform data into the format that can be feed into model\n",
      "trainLabeled = train.map(lambda line: LabeledPoint(\n",
      "                                                   extract_label(line),\n",
      "                                                   extract_features(line)\n",
      "                                                   ))\n",
      "testLabeled = test.map(lambda line: LabeledPoint(\n",
      "                                                   extract_label(line),\n",
      "                                                   extract_features(line)\n",
      "                                                   ))"
     ],
     "language": "python",
     "metadata": {},
     "outputs": [],
     "prompt_number": 8
    },
    {
     "cell_type": "code",
     "collapsed": false,
     "input": [
      "#preserver some part of the data as validation data\n",
      "train_dataset, val_dataset = trainLabeled.randomSplit([0.7, 0.3])"
     ],
     "language": "python",
     "metadata": {},
     "outputs": [],
     "prompt_number": 9
    },
    {
     "cell_type": "code",
     "collapsed": false,
     "input": [
      "#train\n",
      "linear_model_val = LinearRegressionWithSGD.train(train_dataset,100000,0.00000000001)\n",
      "linear_model = LinearRegressionWithSGD.train(trainLabeled,100000,0.00000000001)"
     ],
     "language": "python",
     "metadata": {},
     "outputs": [],
     "prompt_number": 10
    },
    {
     "cell_type": "code",
     "collapsed": false,
     "input": [
      "#evaluateModel(linear_model_val, val_dataset)"
     ],
     "language": "python",
     "metadata": {},
     "outputs": [],
     "prompt_number": 11
    },
    {
     "cell_type": "code",
     "collapsed": false,
     "input": [
      "#evaluateModel(linear_model, testLabeled)"
     ],
     "language": "python",
     "metadata": {},
     "outputs": [],
     "prompt_number": 12
    },
    {
     "cell_type": "code",
     "collapsed": false,
     "input": [
      "#evaluate data\n",
      "mae_val, rmse_val = evaluateModel(linear_model_val, val_dataset)\n",
      "mae, rmse = evaluateModel(linear_model, testLabeled)"
     ],
     "language": "python",
     "metadata": {},
     "outputs": [],
     "prompt_number": 13
    },
    {
     "cell_type": "code",
     "collapsed": false,
     "input": [
      "#result = open(\"Answer.txt\",\"w\")\n",
      "#result.write(\"Validation: \\n\"+\"MAE: \"+str(mae_val)+\"\\nRMSE: \"+str(rmse_val))\n",
      "#result.write(\"\\nTest: \\n\"+\"MAE: \"+str(mae)+\"\\nRMSE: \"+str(rmse))\n",
      "#result.close()"
     ],
     "language": "python",
     "metadata": {},
     "outputs": [],
     "prompt_number": 14
    },
    {
     "cell_type": "code",
     "collapsed": false,
     "input": [
      "print \"Validation: \\n\"+\"MAE: \"+str(mae_val)+\"\\nRMSE: \"+str(rmse_val)\n",
      "print \"\\nTest: \\n\"+\"MAE: \"+str(mae)+\"\\nRMSE: \"+str(rmse)"
     ],
     "language": "python",
     "metadata": {},
     "outputs": [
      {
       "output_type": "stream",
       "stream": "stdout",
       "text": [
        "Validation: \n",
        "MAE: 0.700146467503\n",
        "RMSE: 8.79296124966\n",
        "\n",
        "Test: \n",
        "MAE: 3.03908801698\n",
        "RMSE: 19.7382158798\n"
       ]
      }
     ],
     "prompt_number": 15
    },
    {
     "cell_type": "code",
     "collapsed": false,
     "input": [],
     "language": "python",
     "metadata": {},
     "outputs": []
    }
   ],
   "metadata": {}
  }
 ]
}